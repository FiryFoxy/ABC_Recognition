{
 "cells": [
  {
   "cell_type": "markdown",
   "metadata": {
    "id": "3e51cc8b"
   },
   "source": [
    "# Riconoscimento di Lettere con Rete Neurale\n",
    "\n",
    "Questo notebook implementa una rete neurale per classificare lettere ('a', 'b', 'c') utilizzando dati sintetici. Il processo include il caricamento e la preparazione dei dati, la costruzione di una rete neurale a tre strati, l'addestramento del modello e la valutazione delle sue prestazioni."
   ]
  },
  {
   "cell_type": "markdown",
   "metadata": {
    "id": "68205168"
   },
   "source": [
    "## Caricamento e preparazione dei dati"
   ]
  },
  {
   "cell_type": "code",
   "execution_count": null,
   "metadata": {
    "colab": {
     "base_uri": "https://localhost:8080/",
     "height": 564
    },
    "executionInfo": {
     "elapsed": 656,
     "status": "ok",
     "timestamp": 1759934440255,
     "user": {
      "displayName": "Fulvio Giulio Pavan",
      "userId": "14416675041070062875"
     },
     "user_tz": -120
    },
    "id": "d9b3321c",
    "outputId": "87ff94b0-95dd-41f3-e519-0853dcbe0bc7"
   },
   "outputs": [
    {
     "ename": "",
     "evalue": "",
     "output_type": "error",
     "traceback": [
      "\u001b[1;31mFailed to start the Kernel. \n",
      "\u001b[1;31mUnable to start Kernel '.venv (Python 3.11.1)' due to a timeout waiting for the ports to get used. \n",
      "\u001b[1;31mView Jupyter <a href='command:jupyter.viewOutput'>log</a> for further details."
     ]
    }
   ],
   "source": [
    "import pandas as pd\n",
    "from sklearn.preprocessing import LabelEncoder\n",
    "import matplotlib.pyplot as plt\n",
    "\n",
    "#load datasets\n",
    "df_a = pd.read_csv('letter_a.csv')\n",
    "df_b = pd.read_csv('letter_b.csv')\n",
    "df_c = pd.read_csv('letter_c.csv')\n",
    "\n",
    "#combine datasets\n",
    "df_combined = pd.concat([df_a, df_b, df_c], ignore_index=True)\n",
    "\n",
    "X = df_combined[['x1', 'x2', 'x3', 'x4']]\n",
    "y = df_combined['label']\n",
    "\n",
    "label_encoder = LabelEncoder()\n",
    "y = label_encoder.fit_transform(y)\n",
    "\n",
    "#display dataset in 4 dimensions using point size for x4\n",
    "plt.figure(figsize=(8, 6))\n",
    "scatter = plt.scatter(X['x1'], X['x2'], c=y, cmap='viridis', s=X['x4']*10) # Use x4 for point size\n",
    "plt.xlabel('x1')\n",
    "plt.ylabel('x2')\n",
    "plt.title('Distribuzione delle classi basata su x1, x2 e x4 (dimensione del punto)')\n",
    "# Add a legend to explain the colors\n",
    "legend = plt.legend(*scatter.legend_elements(),\n",
    "                    loc=\"lower left\", title=\"Labels\")\n",
    "plt.show()"
   ]
  },
  {
   "cell_type": "markdown",
   "metadata": {
    "id": "e846a071"
   },
   "source": [
    "## Costruzione della rete neurale\n"
   ]
  },
  {
   "cell_type": "code",
   "execution_count": null,
   "metadata": {
    "colab": {
     "base_uri": "https://localhost:8080/",
     "height": 247
    },
    "executionInfo": {
     "elapsed": 8,
     "status": "ok",
     "timestamp": 1759934211731,
     "user": {
      "displayName": "Fulvio Giulio Pavan",
      "userId": "14416675041070062875"
     },
     "user_tz": -120
    },
    "id": "d8c293b9",
    "outputId": "aaf73683-6382-483e-fa04-9004460690b8"
   },
   "outputs": [],
   "source": [
    "from tensorflow.keras.models import Sequential\n",
    "from tensorflow.keras.layers import Dense\n",
    "\n",
    "model = Sequential()\n",
    "model.add(Dense(5, input_shape=(4,), activation='relu'))\n",
    "model.add(Dense(3, activation='softmax'))\n",
    "model.summary()"
   ]
  },
  {
   "cell_type": "markdown",
   "metadata": {
    "id": "f28034c7"
   },
   "source": [
    "## Addestramento del modello\n"
   ]
  },
  {
   "cell_type": "code",
   "execution_count": null,
   "metadata": {
    "colab": {
     "base_uri": "https://localhost:8080/"
    },
    "executionInfo": {
     "elapsed": 8797,
     "status": "ok",
     "timestamp": 1759934220522,
     "user": {
      "displayName": "Fulvio Giulio Pavan",
      "userId": "14416675041070062875"
     },
     "user_tz": -120
    },
    "id": "99a16e61",
    "outputId": "135c0002-928e-401d-8b8c-db216d03348c"
   },
   "outputs": [],
   "source": [
    "model.compile(optimizer='adam',\n",
    "              loss='sparse_categorical_crossentropy',\n",
    "              metrics=['accuracy'])\n",
    "\n",
    "history = model.fit(X, y, epochs=100, batch_size=5)"
   ]
  },
  {
   "cell_type": "markdown",
   "metadata": {
    "id": "00ffde93"
   },
   "source": [
    "## Valutazione Modello"
   ]
  },
  {
   "cell_type": "code",
   "execution_count": null,
   "metadata": {
    "colab": {
     "base_uri": "https://localhost:8080/",
     "height": 615
    },
    "executionInfo": {
     "elapsed": 502,
     "status": "ok",
     "timestamp": 1759934221012,
     "user": {
      "displayName": "Fulvio Giulio Pavan",
      "userId": "14416675041070062875"
     },
     "user_tz": -120
    },
    "id": "654b9a80",
    "outputId": "c0534eb0-4f2e-4a27-e538-acf7bc600a04"
   },
   "outputs": [],
   "source": [
    "from sklearn.metrics import confusion_matrix\n",
    "import seaborn as sns\n",
    "import numpy as np\n",
    "\n",
    "loss, accuracy = model.evaluate(X, y, verbose=0)\n",
    "print(f'Loss: {loss}')\n",
    "print(f'Accuracy: {accuracy}')\n",
    "\n",
    "# Get the model's predictions\n",
    "y_pred_probs = model.predict(X)\n",
    "y_pred = np.argmax(y_pred_probs, axis=1)\n",
    "\n",
    "# Generate the confusion matrix\n",
    "cm = confusion_matrix(y, y_pred)\n",
    "\n",
    "# Visualize the confusion matrix\n",
    "plt.figure(figsize=(8, 6))\n",
    "sns.heatmap(cm, annot=True, fmt='d', cmap='Blues', xticklabels=label_encoder.classes_, yticklabels=label_encoder.classes_)\n",
    "plt.xlabel('Etichetta Predetta')\n",
    "plt.ylabel('Etichetta Reale')\n",
    "plt.title('Matrice di Confusione')\n",
    "plt.show()"
   ]
  },
  {
   "cell_type": "markdown",
   "metadata": {
    "id": "qn6DXstBROYE"
   },
   "source": [
    "## Restituzione Rete, Pesi e Bias"
   ]
  },
  {
   "cell_type": "code",
   "execution_count": null,
   "metadata": {
    "colab": {
     "base_uri": "https://localhost:8080/"
    },
    "executionInfo": {
     "elapsed": 332,
     "status": "ok",
     "timestamp": 1759935509431,
     "user": {
      "displayName": "Fulvio Giulio Pavan",
      "userId": "14416675041070062875"
     },
     "user_tz": -120
    },
    "id": "4NF_Li4ERVaG",
    "outputId": "8b16c80e-8098-46bd-dd33-e67c71d3399f"
   },
   "outputs": [],
   "source": [
    "# Print weights and biases for each layer\n",
    "print(\"\\nPesi e Bias per ogni Layer:\")\n",
    "for layer in model.layers:\n",
    "    weights, biases = layer.get_weights()\n",
    "    print(f\"\\nLayer: {layer.name}\")\n",
    "    print(\"Pesi:\")\n",
    "    print(weights)\n",
    "    print(\"Bias:\")\n",
    "    print(biases)\n",
    "\n",
    "model.save('letter_recognition_model.keras')\n",
    "print(\"Rete neurale salvata come 'letter_recognition_model.keras'\")"
   ]
  }
 ],
 "metadata": {
  "colab": {
   "authorship_tag": "ABX9TyNmQH0wQVwBVj/4z4oVrw/C",
   "mount_file_id": "1AesH9_3Rp6UhP-DOfeXg1lEaAR1CizwX",
   "provenance": []
  },
  "kernelspec": {
   "display_name": ".venv",
   "language": "python",
   "name": "python3"
  },
  "language_info": {
   "name": "python",
   "version": "3.11.1"
  }
 },
 "nbformat": 4,
 "nbformat_minor": 0
}
